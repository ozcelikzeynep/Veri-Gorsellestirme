{
  "cells": [
    {
      "cell_type": "code",
      "execution_count": 1,
      "metadata": {
        "id": "D9M-iDUbhLGv"
      },
      "outputs": [],
      "source": [
        "import pandas as pd\n",
        "import numpy as np\n",
        "import seaborn as sns\n",
        "import matplotlib.pyplot as plt"
      ]
    },
    {
      "cell_type": "code",
      "execution_count": 2,
      "metadata": {
        "colab": {
          "base_uri": "https://localhost:8080/",
          "height": 423
        },
        "id": "lFTukNDAhVb3",
        "outputId": "b9b92783-6c79-4373-8d61-11c18a6c6c77"
      },
      "outputs": [
        {
          "data": {
            "text/html": [
              "<div>\n",
              "<style scoped>\n",
              "    .dataframe tbody tr th:only-of-type {\n",
              "        vertical-align: middle;\n",
              "    }\n",
              "\n",
              "    .dataframe tbody tr th {\n",
              "        vertical-align: top;\n",
              "    }\n",
              "\n",
              "    .dataframe thead th {\n",
              "        text-align: right;\n",
              "    }\n",
              "</style>\n",
              "<table border=\"1\" class=\"dataframe\">\n",
              "  <thead>\n",
              "    <tr style=\"text-align: right;\">\n",
              "      <th></th>\n",
              "      <th>ilce_adi</th>\n",
              "      <th>mahalle_adi</th>\n",
              "      <th>mahalle_uavt</th>\n",
              "      <th>1980_oncesi</th>\n",
              "      <th>1980-2000_arasi</th>\n",
              "      <th>2000_sonrasi</th>\n",
              "      <th>1-4 kat_arasi</th>\n",
              "      <th>5-9 kat_arasi</th>\n",
              "      <th>9-19 kat_arasi</th>\n",
              "    </tr>\n",
              "  </thead>\n",
              "  <tbody>\n",
              "    <tr>\n",
              "      <th>0</th>\n",
              "      <td>ADALAR</td>\n",
              "      <td>BURGAZADA</td>\n",
              "      <td>40139</td>\n",
              "      <td>433</td>\n",
              "      <td>214</td>\n",
              "      <td>173</td>\n",
              "      <td>802</td>\n",
              "      <td>18</td>\n",
              "      <td>0</td>\n",
              "    </tr>\n",
              "    <tr>\n",
              "      <th>1</th>\n",
              "      <td>ADALAR</td>\n",
              "      <td>HEYBELİADA</td>\n",
              "      <td>40142</td>\n",
              "      <td>836</td>\n",
              "      <td>347</td>\n",
              "      <td>212</td>\n",
              "      <td>1359</td>\n",
              "      <td>36</td>\n",
              "      <td>0</td>\n",
              "    </tr>\n",
              "    <tr>\n",
              "      <th>2</th>\n",
              "      <td>ADALAR</td>\n",
              "      <td>KINALIADA</td>\n",
              "      <td>40143</td>\n",
              "      <td>610</td>\n",
              "      <td>244</td>\n",
              "      <td>158</td>\n",
              "      <td>923</td>\n",
              "      <td>89</td>\n",
              "      <td>0</td>\n",
              "    </tr>\n",
              "    <tr>\n",
              "      <th>3</th>\n",
              "      <td>ADALAR</td>\n",
              "      <td>MADEN</td>\n",
              "      <td>40140</td>\n",
              "      <td>863</td>\n",
              "      <td>510</td>\n",
              "      <td>308</td>\n",
              "      <td>1637</td>\n",
              "      <td>44</td>\n",
              "      <td>0</td>\n",
              "    </tr>\n",
              "    <tr>\n",
              "      <th>4</th>\n",
              "      <td>ADALAR</td>\n",
              "      <td>NİZAM</td>\n",
              "      <td>40141</td>\n",
              "      <td>842</td>\n",
              "      <td>426</td>\n",
              "      <td>217</td>\n",
              "      <td>1434</td>\n",
              "      <td>51</td>\n",
              "      <td>0</td>\n",
              "    </tr>\n",
              "    <tr>\n",
              "      <th>...</th>\n",
              "      <td>...</td>\n",
              "      <td>...</td>\n",
              "      <td>...</td>\n",
              "      <td>...</td>\n",
              "      <td>...</td>\n",
              "      <td>...</td>\n",
              "      <td>...</td>\n",
              "      <td>...</td>\n",
              "      <td>...</td>\n",
              "    </tr>\n",
              "    <tr>\n",
              "      <th>954</th>\n",
              "      <td>ZEYTİNBURNU</td>\n",
              "      <td>SÜMER</td>\n",
              "      <td>40831</td>\n",
              "      <td>53</td>\n",
              "      <td>1025</td>\n",
              "      <td>223</td>\n",
              "      <td>252</td>\n",
              "      <td>989</td>\n",
              "      <td>60</td>\n",
              "    </tr>\n",
              "    <tr>\n",
              "      <th>955</th>\n",
              "      <td>ZEYTİNBURNU</td>\n",
              "      <td>TELSİZ</td>\n",
              "      <td>40839</td>\n",
              "      <td>567</td>\n",
              "      <td>763</td>\n",
              "      <td>710</td>\n",
              "      <td>596</td>\n",
              "      <td>1443</td>\n",
              "      <td>1</td>\n",
              "    </tr>\n",
              "    <tr>\n",
              "      <th>956</th>\n",
              "      <td>ZEYTİNBURNU</td>\n",
              "      <td>VELİEFENDİ</td>\n",
              "      <td>40836</td>\n",
              "      <td>92</td>\n",
              "      <td>1020</td>\n",
              "      <td>185</td>\n",
              "      <td>418</td>\n",
              "      <td>879</td>\n",
              "      <td>0</td>\n",
              "    </tr>\n",
              "    <tr>\n",
              "      <th>957</th>\n",
              "      <td>ZEYTİNBURNU</td>\n",
              "      <td>YENİDOĞAN</td>\n",
              "      <td>40833</td>\n",
              "      <td>31</td>\n",
              "      <td>450</td>\n",
              "      <td>67</td>\n",
              "      <td>109</td>\n",
              "      <td>438</td>\n",
              "      <td>1</td>\n",
              "    </tr>\n",
              "    <tr>\n",
              "      <th>958</th>\n",
              "      <td>ZEYTİNBURNU</td>\n",
              "      <td>YEŞİLTEPE</td>\n",
              "      <td>40835</td>\n",
              "      <td>50</td>\n",
              "      <td>726</td>\n",
              "      <td>113</td>\n",
              "      <td>203</td>\n",
              "      <td>685</td>\n",
              "      <td>1</td>\n",
              "    </tr>\n",
              "  </tbody>\n",
              "</table>\n",
              "<p>959 rows × 9 columns</p>\n",
              "</div>"
            ],
            "text/plain": [
              "        ilce_adi mahalle_adi  mahalle_uavt  1980_oncesi  1980-2000_arasi   \n",
              "0         ADALAR   BURGAZADA         40139          433              214  \\\n",
              "1         ADALAR  HEYBELİADA         40142          836              347   \n",
              "2         ADALAR   KINALIADA         40143          610              244   \n",
              "3         ADALAR       MADEN         40140          863              510   \n",
              "4         ADALAR       NİZAM         40141          842              426   \n",
              "..           ...         ...           ...          ...              ...   \n",
              "954  ZEYTİNBURNU       SÜMER         40831           53             1025   \n",
              "955  ZEYTİNBURNU      TELSİZ         40839          567              763   \n",
              "956  ZEYTİNBURNU  VELİEFENDİ         40836           92             1020   \n",
              "957  ZEYTİNBURNU   YENİDOĞAN         40833           31              450   \n",
              "958  ZEYTİNBURNU   YEŞİLTEPE         40835           50              726   \n",
              "\n",
              "     2000_sonrasi  1-4 kat_arasi  5-9 kat_arasi  9-19 kat_arasi  \n",
              "0             173            802             18               0  \n",
              "1             212           1359             36               0  \n",
              "2             158            923             89               0  \n",
              "3             308           1637             44               0  \n",
              "4             217           1434             51               0  \n",
              "..            ...            ...            ...             ...  \n",
              "954           223            252            989              60  \n",
              "955           710            596           1443               1  \n",
              "956           185            418            879               0  \n",
              "957            67            109            438               1  \n",
              "958           113            203            685               1  \n",
              "\n",
              "[959 rows x 9 columns]"
            ]
          },
          "execution_count": 2,
          "metadata": {},
          "output_type": "execute_result"
        }
      ],
      "source": [
        "data = pd.read_csv(\"mahalle_bina.csv\", encoding = \"ISO-8859-9\", sep=\";\")\n",
        "data"
      ]
    },
    {
      "cell_type": "code",
      "execution_count": 3,
      "metadata": {
        "colab": {
          "base_uri": "https://localhost:8080/"
        },
        "id": "1nysum6ylicu",
        "outputId": "ccf290c3-68cf-4690-c00e-151f937bea7a"
      },
      "outputs": [
        {
          "name": "stdout",
          "output_type": "stream",
          "text": [
            "<class 'pandas.core.frame.DataFrame'>\n",
            "RangeIndex: 959 entries, 0 to 958\n",
            "Data columns (total 9 columns):\n",
            " #   Column           Non-Null Count  Dtype \n",
            "---  ------           --------------  ----- \n",
            " 0   ilce_adi         959 non-null    object\n",
            " 1   mahalle_adi      959 non-null    object\n",
            " 2   mahalle_uavt     959 non-null    int64 \n",
            " 3   1980_oncesi      959 non-null    int64 \n",
            " 4   1980-2000_arasi  959 non-null    int64 \n",
            " 5   2000_sonrasi     959 non-null    int64 \n",
            " 6   1-4 kat_arasi    959 non-null    int64 \n",
            " 7   5-9 kat_arasi    959 non-null    int64 \n",
            " 8   9-19 kat_arasi   959 non-null    int64 \n",
            "dtypes: int64(7), object(2)\n",
            "memory usage: 67.6+ KB\n"
          ]
        }
      ],
      "source": [
        "data.info()"
      ]
    },
    {
      "cell_type": "code",
      "execution_count": 4,
      "metadata": {
        "colab": {
          "base_uri": "https://localhost:8080/"
        },
        "id": "-DUg2pIslo1v",
        "outputId": "92c01dd7-8cb1-4ab1-90b5-24491f82a418"
      },
      "outputs": [
        {
          "data": {
            "text/plain": [
              "ilce_adi           0\n",
              "mahalle_adi        0\n",
              "mahalle_uavt       0\n",
              "1980_oncesi        0\n",
              "1980-2000_arasi    0\n",
              "2000_sonrasi       0\n",
              "1-4 kat_arasi      0\n",
              "5-9 kat_arasi      0\n",
              "9-19 kat_arasi     0\n",
              "dtype: int64"
            ]
          },
          "execution_count": 4,
          "metadata": {},
          "output_type": "execute_result"
        }
      ],
      "source": [
        "data.isnull().sum()"
      ]
    },
    {
      "cell_type": "markdown",
      "metadata": {
        "id": "xwHd9v6-l2s4"
      },
      "source": [
        "veri setindeki ilçelerde kaç tane mahalle olduğunu görşelleştirerek daha fazla mahalle sayısına sahip olan ilçelerin belirlenmesi"
      ]
    },
    {
      "cell_type": "code",
      "execution_count": 5,
      "metadata": {
        "colab": {
          "base_uri": "https://localhost:8080/"
        },
        "id": "Bl0SN8BPmxqY",
        "outputId": "1b548a60-09e0-43a4-8309-5c3b46d6b494"
      },
      "outputs": [
        {
          "data": {
            "text/plain": [
              "ilce_adi\n",
              "ŞİLE             62\n",
              "FATİH            57\n",
              "BEYKOZ           45\n",
              "BEYOĞLU          45\n",
              "ESENYURT         43\n",
              "ÇATALCA          39\n",
              "SARIYER          38\n",
              "ARNAVUTKÖY       38\n",
              "PENDİK           36\n",
              "ÜMRANİYE         35\n",
              "SİLİVRİ          35\n",
              "ÜSKÜDAR          33\n",
              "EYÜP             28\n",
              "ŞİŞLİ            25\n",
              "BÜYÜKÇEKMECE     24\n",
              "BEŞİKTAŞ         23\n",
              "BAĞCILAR         22\n",
              "KADIKÖY          21\n",
              "ÇEKMEKÖY         21\n",
              "KÜÇÜKÇEKMECE     21\n",
              "KARTAL           20\n",
              "KAĞITHANE        19\n",
              "SANCAKTEPE       19\n",
              "MALTEPE          18\n",
              "TUZLA            17\n",
              "ATAŞEHİR         17\n",
              "ESENLER          16\n",
              "GAZİOSMANPAŞA    16\n",
              "BAKIRKÖY         15\n",
              "SULTANBEYLİ      15\n",
              "SULTANGAZİ       15\n",
              "ZEYTİNBURNU      13\n",
              "GÜNGÖREN         11\n",
              "BAYRAMPAŞA       11\n",
              "BAHÇELİEVLER     11\n",
              "BEYLİKDÜZÜ       10\n",
              "BAŞAKŞEHİR       10\n",
              "AVCILAR          10\n",
              "ADALAR            5\n",
              "Name: count, dtype: int64"
            ]
          },
          "execution_count": 5,
          "metadata": {},
          "output_type": "execute_result"
        }
      ],
      "source": [
        "data_ileceler= data[\"ilce_adi\"].value_counts().sort_values(ascending=False)\n",
        "data_ileceler"
      ]
    },
    {
      "cell_type": "code",
      "execution_count": 6,
      "metadata": {},
      "outputs": [
        {
          "data": {
            "text/plain": [
              "Index(['ŞİLE', 'FATİH', 'BEYKOZ', 'BEYOĞLU', 'ESENYURT', 'ÇATALCA', 'SARIYER',\n",
              "       'ARNAVUTKÖY', 'PENDİK', 'ÜMRANİYE', 'SİLİVRİ', 'ÜSKÜDAR', 'EYÜP',\n",
              "       'ŞİŞLİ', 'BÜYÜKÇEKMECE', 'BEŞİKTAŞ', 'BAĞCILAR', 'KADIKÖY', 'ÇEKMEKÖY',\n",
              "       'KÜÇÜKÇEKMECE', 'KARTAL', 'KAĞITHANE', 'SANCAKTEPE', 'MALTEPE', 'TUZLA',\n",
              "       'ATAŞEHİR', 'ESENLER', 'GAZİOSMANPAŞA', 'BAKIRKÖY', 'SULTANBEYLİ',\n",
              "       'SULTANGAZİ', 'ZEYTİNBURNU', 'GÜNGÖREN', 'BAYRAMPAŞA', 'BAHÇELİEVLER',\n",
              "       'BEYLİKDÜZÜ', 'BAŞAKŞEHİR', 'AVCILAR', 'ADALAR'],\n",
              "      dtype='object', name='ilce_adi')"
            ]
          },
          "execution_count": 6,
          "metadata": {},
          "output_type": "execute_result"
        }
      ],
      "source": [
        "data_ileceler.index"
      ]
    },
    {
      "cell_type": "code",
      "execution_count": 9,
      "metadata": {
        "colab": {
          "base_uri": "https://localhost:8080/",
          "height": 847
        },
        "id": "B-FvdR56wUXh",
        "outputId": "20acda8e-3e59-447b-e6d8-d03b8005abd5"
      },
      "outputs": [
        {
          "data": {
            "text/plain": [
              "Text(0.5, 0, 'İlçe İsimleri')"
            ]
          },
          "execution_count": 9,
          "metadata": {},
          "output_type": "execute_result"
        },
        {
          "data": {
            "image/png": "[encoded data removed]",
            "text/plain": [
              "<Figure size 1500x1000 with 1 Axes>"
            ]
          },
          "metadata": {},
          "output_type": "display_data"
        }
      ],
      "source": [
        "plt.figure(figsize=(15,10))\n",
        "plt.title('İlçelere Göre Mahalle Sayıları')\n",
        "plt.xticks(np.arange(0, data_ileceler[0] + 10, step=5))\n",
        "sns.barplot(x = data_ileceler, y = data_ileceler.index)\n",
        "plt.ylabel(\"Mahalle Sayısı\")\n",
        "plt.xlabel(\"İlçe İsimleri\")"
      ]
    },
    {
      "cell_type": "markdown",
      "metadata": {
        "id": "RXgODsQh3LH4"
      },
      "source": [
        "İlçelerde Bulunan Toplam Ev Sayısının Görselleştirilmesi"
      ]
    },
    {
      "cell_type": "code",
      "execution_count": 35,
      "metadata": {
        "id": "Mqytb13f3Khb"
      },
      "outputs": [
        {
          "data": {
            "text/html": [
              "<div>\n",
              "<style scoped>\n",
              "    .dataframe tbody tr th:only-of-type {\n",
              "        vertical-align: middle;\n",
              "    }\n",
              "\n",
              "    .dataframe tbody tr th {\n",
              "        vertical-align: top;\n",
              "    }\n",
              "\n",
              "    .dataframe thead th {\n",
              "        text-align: right;\n",
              "    }\n",
              "</style>\n",
              "<table border=\"1\" class=\"dataframe\">\n",
              "  <thead>\n",
              "    <tr style=\"text-align: right;\">\n",
              "      <th></th>\n",
              "      <th>ilce_adi</th>\n",
              "      <th>mahalle_adi</th>\n",
              "      <th>mahalle_uavt</th>\n",
              "      <th>1980_oncesi</th>\n",
              "      <th>1980-2000_arasi</th>\n",
              "      <th>2000_sonrasi</th>\n",
              "      <th>1-4 kat_arasi</th>\n",
              "      <th>5-9 kat_arasi</th>\n",
              "      <th>9-19 kat_arasi</th>\n",
              "      <th>toplam_ev</th>\n",
              "    </tr>\n",
              "  </thead>\n",
              "  <tbody>\n",
              "    <tr>\n",
              "      <th>0</th>\n",
              "      <td>ADALAR</td>\n",
              "      <td>BURGAZADA</td>\n",
              "      <td>40139</td>\n",
              "      <td>433</td>\n",
              "      <td>214</td>\n",
              "      <td>173</td>\n",
              "      <td>802</td>\n",
              "      <td>18</td>\n",
              "      <td>0</td>\n",
              "      <td>820</td>\n",
              "    </tr>\n",
              "    <tr>\n",
              "      <th>1</th>\n",
              "      <td>ADALAR</td>\n",
              "      <td>HEYBELİADA</td>\n",
              "      <td>40142</td>\n",
              "      <td>836</td>\n",
              "      <td>347</td>\n",
              "      <td>212</td>\n",
              "      <td>1359</td>\n",
              "      <td>36</td>\n",
              "      <td>0</td>\n",
              "      <td>1395</td>\n",
              "    </tr>\n",
              "    <tr>\n",
              "      <th>2</th>\n",
              "      <td>ADALAR</td>\n",
              "      <td>KINALIADA</td>\n",
              "      <td>40143</td>\n",
              "      <td>610</td>\n",
              "      <td>244</td>\n",
              "      <td>158</td>\n",
              "      <td>923</td>\n",
              "      <td>89</td>\n",
              "      <td>0</td>\n",
              "      <td>1012</td>\n",
              "    </tr>\n",
              "    <tr>\n",
              "      <th>3</th>\n",
              "      <td>ADALAR</td>\n",
              "      <td>MADEN</td>\n",
              "      <td>40140</td>\n",
              "      <td>863</td>\n",
              "      <td>510</td>\n",
              "      <td>308</td>\n",
              "      <td>1637</td>\n",
              "      <td>44</td>\n",
              "      <td>0</td>\n",
              "      <td>1681</td>\n",
              "    </tr>\n",
              "    <tr>\n",
              "      <th>4</th>\n",
              "      <td>ADALAR</td>\n",
              "      <td>NİZAM</td>\n",
              "      <td>40141</td>\n",
              "      <td>842</td>\n",
              "      <td>426</td>\n",
              "      <td>217</td>\n",
              "      <td>1434</td>\n",
              "      <td>51</td>\n",
              "      <td>0</td>\n",
              "      <td>1485</td>\n",
              "    </tr>\n",
              "    <tr>\n",
              "      <th>...</th>\n",
              "      <td>...</td>\n",
              "      <td>...</td>\n",
              "      <td>...</td>\n",
              "      <td>...</td>\n",
              "      <td>...</td>\n",
              "      <td>...</td>\n",
              "      <td>...</td>\n",
              "      <td>...</td>\n",
              "      <td>...</td>\n",
              "      <td>...</td>\n",
              "    </tr>\n",
              "    <tr>\n",
              "      <th>954</th>\n",
              "      <td>ZEYTİNBURNU</td>\n",
              "      <td>SÜMER</td>\n",
              "      <td>40831</td>\n",
              "      <td>53</td>\n",
              "      <td>1025</td>\n",
              "      <td>223</td>\n",
              "      <td>252</td>\n",
              "      <td>989</td>\n",
              "      <td>60</td>\n",
              "      <td>1301</td>\n",
              "    </tr>\n",
              "    <tr>\n",
              "      <th>955</th>\n",
              "      <td>ZEYTİNBURNU</td>\n",
              "      <td>TELSİZ</td>\n",
              "      <td>40839</td>\n",
              "      <td>567</td>\n",
              "      <td>763</td>\n",
              "      <td>710</td>\n",
              "      <td>596</td>\n",
              "      <td>1443</td>\n",
              "      <td>1</td>\n",
              "      <td>2040</td>\n",
              "    </tr>\n",
              "    <tr>\n",
              "      <th>956</th>\n",
              "      <td>ZEYTİNBURNU</td>\n",
              "      <td>VELİEFENDİ</td>\n",
              "      <td>40836</td>\n",
              "      <td>92</td>\n",
              "      <td>1020</td>\n",
              "      <td>185</td>\n",
              "      <td>418</td>\n",
              "      <td>879</td>\n",
              "      <td>0</td>\n",
              "      <td>1297</td>\n",
              "    </tr>\n",
              "    <tr>\n",
              "      <th>957</th>\n",
              "      <td>ZEYTİNBURNU</td>\n",
              "      <td>YENİDOĞAN</td>\n",
              "      <td>40833</td>\n",
              "      <td>31</td>\n",
              "      <td>450</td>\n",
              "      <td>67</td>\n",
              "      <td>109</td>\n",
              "      <td>438</td>\n",
              "      <td>1</td>\n",
              "      <td>548</td>\n",
              "    </tr>\n",
              "    <tr>\n",
              "      <th>958</th>\n",
              "      <td>ZEYTİNBURNU</td>\n",
              "      <td>YEŞİLTEPE</td>\n",
              "      <td>40835</td>\n",
              "      <td>50</td>\n",
              "      <td>726</td>\n",
              "      <td>113</td>\n",
              "      <td>203</td>\n",
              "      <td>685</td>\n",
              "      <td>1</td>\n",
              "      <td>889</td>\n",
              "    </tr>\n",
              "  </tbody>\n",
              "</table>\n",
              "<p>959 rows × 10 columns</p>\n",
              "</div>"
            ],
            "text/plain": [
              "        ilce_adi mahalle_adi  mahalle_uavt  1980_oncesi  1980-2000_arasi   \n",
              "0         ADALAR   BURGAZADA         40139          433              214  \\\n",
              "1         ADALAR  HEYBELİADA         40142          836              347   \n",
              "2         ADALAR   KINALIADA         40143          610              244   \n",
              "3         ADALAR       MADEN         40140          863              510   \n",
              "4         ADALAR       NİZAM         40141          842              426   \n",
              "..           ...         ...           ...          ...              ...   \n",
              "954  ZEYTİNBURNU       SÜMER         40831           53             1025   \n",
              "955  ZEYTİNBURNU      TELSİZ         40839          567              763   \n",
              "956  ZEYTİNBURNU  VELİEFENDİ         40836           92             1020   \n",
              "957  ZEYTİNBURNU   YENİDOĞAN         40833           31              450   \n",
              "958  ZEYTİNBURNU   YEŞİLTEPE         40835           50              726   \n",
              "\n",
              "     2000_sonrasi  1-4 kat_arasi  5-9 kat_arasi  9-19 kat_arasi  toplam_ev  \n",
              "0             173            802             18               0        820  \n",
              "1             212           1359             36               0       1395  \n",
              "2             158            923             89               0       1012  \n",
              "3             308           1637             44               0       1681  \n",
              "4             217           1434             51               0       1485  \n",
              "..            ...            ...            ...             ...        ...  \n",
              "954           223            252            989              60       1301  \n",
              "955           710            596           1443               1       2040  \n",
              "956           185            418            879               0       1297  \n",
              "957            67            109            438               1        548  \n",
              "958           113            203            685               1        889  \n",
              "\n",
              "[959 rows x 10 columns]"
            ]
          },
          "execution_count": 35,
          "metadata": {},
          "output_type": "execute_result"
        }
      ],
      "source": [
        "data[\"toplam_ev\"] = data[\"1980_oncesi\"] + data[\"1980-2000_arasi\"] + data[\"2000_sonrasi\"]\n",
        "data"
      ]
    },
    {
      "cell_type": "markdown",
      "metadata": {},
      "source": [
        "ilçelere göre toplam ev sayısı, artandan azalan sıra"
      ]
    },
    {
      "cell_type": "code",
      "execution_count": 27,
      "metadata": {},
      "outputs": [
        {
          "data": {
            "text/plain": [
              "ilce_adi\n",
              "ÜMRANİYE         52612\n",
              "PENDİK           51491\n",
              "BEYKOZ           51201\n",
              "SİLİVRİ          50014\n",
              "SARIYER          49360\n",
              "FATİH            43560\n",
              "BAĞCILAR         42439\n",
              "ÜSKÜDAR          41731\n",
              "KÜÇÜKÇEKMECE     40136\n",
              "ESENYURT         38685\n",
              "EYÜP             34363\n",
              "SULTANGAZİ       33947\n",
              "SULTANBEYLİ      33911\n",
              "ARNAVUTKÖY       31941\n",
              "BÜYÜKÇEKMECE     31343\n",
              "SANCAKTEPE       30293\n",
              "KARTAL           29962\n",
              "GAZİOSMANPAŞA    29283\n",
              "KAĞITHANE        29103\n",
              "MALTEPE          28742\n",
              "TUZLA            28331\n",
              "ATAŞEHİR         27583\n",
              "BEYOĞLU          27335\n",
              "ÇATALCA          27293\n",
              "AVCILAR          26762\n",
              "BAŞAKŞEHİR       25791\n",
              "KADIKÖY          25210\n",
              "ESENLER          23661\n",
              "BAHÇELİEVLER     23276\n",
              "BAYRAMPAŞA       20952\n",
              "ÇEKMEKÖY         20787\n",
              "ŞİŞLİ            20689\n",
              "ŞİLE             20102\n",
              "BEŞİKTAŞ         16037\n",
              "ZEYTİNBURNU      16000\n",
              "BEYLİKDÜZÜ       12753\n",
              "BAKIRKÖY         11950\n",
              "GÜNGÖREN         10914\n",
              "ADALAR            6393\n",
              "Name: toplam_ev, dtype: int64"
            ]
          },
          "execution_count": 27,
          "metadata": {},
          "output_type": "execute_result"
        }
      ],
      "source": [
        "a = data.groupby([\"ilce_adi\"])[\"toplam_ev\"].sum().sort_values(ascending=False)\n",
        "a"
      ]
    },
    {
      "cell_type": "markdown",
      "metadata": {},
      "source": [
        "kat sayılarına göre ilçelere düşen bina sayısı"
      ]
    },
    {
      "cell_type": "code",
      "execution_count": 12,
      "metadata": {},
      "outputs": [],
      "source": [
        "a= 5\n",
        "b= 19"
      ]
    },
    {
      "cell_type": "code",
      "execution_count": 13,
      "metadata": {},
      "outputs": [
        {
          "data": {
            "text/plain": [
              "[5, 19]"
            ]
          },
          "execution_count": 13,
          "metadata": {},
          "output_type": "execute_result"
        }
      ],
      "source": [
        "ev_sene = list([a,b])\n",
        "ev_sene"
      ]
    },
    {
      "cell_type": "code",
      "execution_count": null,
      "metadata": {},
      "outputs": [],
      "source": [
        "cinsiyet = [\"Erkek\", \"Kadın\"]\n",
        "sayi = cinsiyet_sayi.to_list()\n",
        "colors = [\"b\", \"#FF6EC7\"]\n",
        "\n",
        "csfont = {'fontname':'serif'}\n",
        "\n",
        "\n",
        "plt.figure(figsize=(10,6))\n",
        "plt.pie(sayi, labels=cinsiyet, colors=colors, shadow=True, explode=(0.05, 0.05), autopct= \"%1.1f%%\", )\n",
        "plt.title(\"Karakterlerin cinsiyetlere göre oranı\", **csfont)\n",
        "plt.show()"
      ]
    },
    {
      "cell_type": "code",
      "execution_count": 34,
      "metadata": {},
      "outputs": [
        {
          "data": {
            "text/html": [
              "<div>\n",
              "<style scoped>\n",
              "    .dataframe tbody tr th:only-of-type {\n",
              "        vertical-align: middle;\n",
              "    }\n",
              "\n",
              "    .dataframe tbody tr th {\n",
              "        vertical-align: top;\n",
              "    }\n",
              "\n",
              "    .dataframe thead th {\n",
              "        text-align: right;\n",
              "    }\n",
              "</style>\n",
              "<table border=\"1\" class=\"dataframe\">\n",
              "  <thead>\n",
              "    <tr style=\"text-align: right;\">\n",
              "      <th></th>\n",
              "      <th>1-4 kat_arasi</th>\n",
              "      <th>5-9 kat_arasi</th>\n",
              "      <th>9-19 kat_arasi</th>\n",
              "    </tr>\n",
              "    <tr>\n",
              "      <th>ilce_adi</th>\n",
              "      <th></th>\n",
              "      <th></th>\n",
              "      <th></th>\n",
              "    </tr>\n",
              "  </thead>\n",
              "  <tbody>\n",
              "    <tr>\n",
              "      <th>KADIKÖY</th>\n",
              "      <td>9423</td>\n",
              "      <td>10990</td>\n",
              "      <td>4797</td>\n",
              "    </tr>\n",
              "    <tr>\n",
              "      <th>PENDİK</th>\n",
              "      <td>34823</td>\n",
              "      <td>14028</td>\n",
              "      <td>2640</td>\n",
              "    </tr>\n",
              "    <tr>\n",
              "      <th>BAŞAKŞEHİR</th>\n",
              "      <td>21176</td>\n",
              "      <td>2329</td>\n",
              "      <td>2286</td>\n",
              "    </tr>\n",
              "    <tr>\n",
              "      <th>BEYLİKDÜZÜ</th>\n",
              "      <td>8054</td>\n",
              "      <td>2921</td>\n",
              "      <td>1778</td>\n",
              "    </tr>\n",
              "    <tr>\n",
              "      <th>ÜMRANİYE</th>\n",
              "      <td>35899</td>\n",
              "      <td>15091</td>\n",
              "      <td>1622</td>\n",
              "    </tr>\n",
              "    <tr>\n",
              "      <th>KARTAL</th>\n",
              "      <td>17232</td>\n",
              "      <td>11255</td>\n",
              "      <td>1475</td>\n",
              "    </tr>\n",
              "    <tr>\n",
              "      <th>ESENYURT</th>\n",
              "      <td>18305</td>\n",
              "      <td>19063</td>\n",
              "      <td>1317</td>\n",
              "    </tr>\n",
              "    <tr>\n",
              "      <th>ATAŞEHİR</th>\n",
              "      <td>18774</td>\n",
              "      <td>7543</td>\n",
              "      <td>1266</td>\n",
              "    </tr>\n",
              "    <tr>\n",
              "      <th>ŞİŞLİ</th>\n",
              "      <td>7237</td>\n",
              "      <td>12267</td>\n",
              "      <td>1185</td>\n",
              "    </tr>\n",
              "    <tr>\n",
              "      <th>MALTEPE</th>\n",
              "      <td>16646</td>\n",
              "      <td>11070</td>\n",
              "      <td>1026</td>\n",
              "    </tr>\n",
              "    <tr>\n",
              "      <th>KÜÇÜKÇEKMECE</th>\n",
              "      <td>22571</td>\n",
              "      <td>16562</td>\n",
              "      <td>1003</td>\n",
              "    </tr>\n",
              "    <tr>\n",
              "      <th>EYÜP</th>\n",
              "      <td>24702</td>\n",
              "      <td>9027</td>\n",
              "      <td>634</td>\n",
              "    </tr>\n",
              "    <tr>\n",
              "      <th>BAĞCILAR</th>\n",
              "      <td>18148</td>\n",
              "      <td>23786</td>\n",
              "      <td>505</td>\n",
              "    </tr>\n",
              "    <tr>\n",
              "      <th>AVCILAR</th>\n",
              "      <td>16513</td>\n",
              "      <td>9760</td>\n",
              "      <td>489</td>\n",
              "    </tr>\n",
              "    <tr>\n",
              "      <th>ÜSKÜDAR</th>\n",
              "      <td>25535</td>\n",
              "      <td>15751</td>\n",
              "      <td>445</td>\n",
              "    </tr>\n",
              "    <tr>\n",
              "      <th>ÇEKMEKÖY</th>\n",
              "      <td>15006</td>\n",
              "      <td>5350</td>\n",
              "      <td>431</td>\n",
              "    </tr>\n",
              "    <tr>\n",
              "      <th>KAĞITHANE</th>\n",
              "      <td>14168</td>\n",
              "      <td>14516</td>\n",
              "      <td>419</td>\n",
              "    </tr>\n",
              "    <tr>\n",
              "      <th>BEŞİKTAŞ</th>\n",
              "      <td>9709</td>\n",
              "      <td>5924</td>\n",
              "      <td>404</td>\n",
              "    </tr>\n",
              "    <tr>\n",
              "      <th>BÜYÜKÇEKMECE</th>\n",
              "      <td>27371</td>\n",
              "      <td>3569</td>\n",
              "      <td>403</td>\n",
              "    </tr>\n",
              "    <tr>\n",
              "      <th>TUZLA</th>\n",
              "      <td>23114</td>\n",
              "      <td>4820</td>\n",
              "      <td>397</td>\n",
              "    </tr>\n",
              "    <tr>\n",
              "      <th>BEYOĞLU</th>\n",
              "      <td>15964</td>\n",
              "      <td>10992</td>\n",
              "      <td>379</td>\n",
              "    </tr>\n",
              "    <tr>\n",
              "      <th>BAHÇELİEVLER</th>\n",
              "      <td>5364</td>\n",
              "      <td>17598</td>\n",
              "      <td>314</td>\n",
              "    </tr>\n",
              "    <tr>\n",
              "      <th>ZEYTİNBURNU</th>\n",
              "      <td>5978</td>\n",
              "      <td>9795</td>\n",
              "      <td>227</td>\n",
              "    </tr>\n",
              "    <tr>\n",
              "      <th>ARNAVUTKÖY</th>\n",
              "      <td>28957</td>\n",
              "      <td>2773</td>\n",
              "      <td>211</td>\n",
              "    </tr>\n",
              "    <tr>\n",
              "      <th>SANCAKTEPE</th>\n",
              "      <td>20629</td>\n",
              "      <td>9459</td>\n",
              "      <td>205</td>\n",
              "    </tr>\n",
              "    <tr>\n",
              "      <th>FATİH</th>\n",
              "      <td>22488</td>\n",
              "      <td>20872</td>\n",
              "      <td>200</td>\n",
              "    </tr>\n",
              "    <tr>\n",
              "      <th>SARIYER</th>\n",
              "      <td>44835</td>\n",
              "      <td>4331</td>\n",
              "      <td>194</td>\n",
              "    </tr>\n",
              "    <tr>\n",
              "      <th>BAKIRKÖY</th>\n",
              "      <td>6372</td>\n",
              "      <td>5388</td>\n",
              "      <td>190</td>\n",
              "    </tr>\n",
              "    <tr>\n",
              "      <th>SİLİVRİ</th>\n",
              "      <td>47461</td>\n",
              "      <td>2400</td>\n",
              "      <td>153</td>\n",
              "    </tr>\n",
              "    <tr>\n",
              "      <th>GÜNGÖREN</th>\n",
              "      <td>2202</td>\n",
              "      <td>8577</td>\n",
              "      <td>135</td>\n",
              "    </tr>\n",
              "    <tr>\n",
              "      <th>ESENLER</th>\n",
              "      <td>8041</td>\n",
              "      <td>15491</td>\n",
              "      <td>129</td>\n",
              "    </tr>\n",
              "    <tr>\n",
              "      <th>BEYKOZ</th>\n",
              "      <td>48690</td>\n",
              "      <td>2390</td>\n",
              "      <td>121</td>\n",
              "    </tr>\n",
              "    <tr>\n",
              "      <th>GAZİOSMANPAŞA</th>\n",
              "      <td>14918</td>\n",
              "      <td>14252</td>\n",
              "      <td>113</td>\n",
              "    </tr>\n",
              "    <tr>\n",
              "      <th>SULTANBEYLİ</th>\n",
              "      <td>30319</td>\n",
              "      <td>3498</td>\n",
              "      <td>94</td>\n",
              "    </tr>\n",
              "    <tr>\n",
              "      <th>BAYRAMPAŞA</th>\n",
              "      <td>10657</td>\n",
              "      <td>10218</td>\n",
              "      <td>77</td>\n",
              "    </tr>\n",
              "    <tr>\n",
              "      <th>SULTANGAZİ</th>\n",
              "      <td>16817</td>\n",
              "      <td>17086</td>\n",
              "      <td>44</td>\n",
              "    </tr>\n",
              "    <tr>\n",
              "      <th>ÇATALCA</th>\n",
              "      <td>26609</td>\n",
              "      <td>683</td>\n",
              "      <td>1</td>\n",
              "    </tr>\n",
              "    <tr>\n",
              "      <th>ŞİLE</th>\n",
              "      <td>19754</td>\n",
              "      <td>348</td>\n",
              "      <td>0</td>\n",
              "    </tr>\n",
              "    <tr>\n",
              "      <th>ADALAR</th>\n",
              "      <td>6155</td>\n",
              "      <td>238</td>\n",
              "      <td>0</td>\n",
              "    </tr>\n",
              "  </tbody>\n",
              "</table>\n",
              "</div>"
            ],
            "text/plain": [
              "               1-4 kat_arasi  5-9 kat_arasi  9-19 kat_arasi\n",
              "ilce_adi                                                   \n",
              "KADIKÖY                 9423          10990            4797\n",
              "PENDİK                 34823          14028            2640\n",
              "BAŞAKŞEHİR             21176           2329            2286\n",
              "BEYLİKDÜZÜ              8054           2921            1778\n",
              "ÜMRANİYE               35899          15091            1622\n",
              "KARTAL                 17232          11255            1475\n",
              "ESENYURT               18305          19063            1317\n",
              "ATAŞEHİR               18774           7543            1266\n",
              "ŞİŞLİ                   7237          12267            1185\n",
              "MALTEPE                16646          11070            1026\n",
              "KÜÇÜKÇEKMECE           22571          16562            1003\n",
              "EYÜP                   24702           9027             634\n",
              "BAĞCILAR               18148          23786             505\n",
              "AVCILAR                16513           9760             489\n",
              "ÜSKÜDAR                25535          15751             445\n",
              "ÇEKMEKÖY               15006           5350             431\n",
              "KAĞITHANE              14168          14516             419\n",
              "BEŞİKTAŞ                9709           5924             404\n",
              "BÜYÜKÇEKMECE           27371           3569             403\n",
              "TUZLA                  23114           4820             397\n",
              "BEYOĞLU                15964          10992             379\n",
              "BAHÇELİEVLER            5364          17598             314\n",
              "ZEYTİNBURNU             5978           9795             227\n",
              "ARNAVUTKÖY             28957           2773             211\n",
              "SANCAKTEPE             20629           9459             205\n",
              "FATİH                  22488          20872             200\n",
              "SARIYER                44835           4331             194\n",
              "BAKIRKÖY                6372           5388             190\n",
              "SİLİVRİ                47461           2400             153\n",
              "GÜNGÖREN                2202           8577             135\n",
              "ESENLER                 8041          15491             129\n",
              "BEYKOZ                 48690           2390             121\n",
              "GAZİOSMANPAŞA          14918          14252             113\n",
              "SULTANBEYLİ            30319           3498              94\n",
              "BAYRAMPAŞA             10657          10218              77\n",
              "SULTANGAZİ             16817          17086              44\n",
              "ÇATALCA                26609            683               1\n",
              "ŞİLE                   19754            348               0\n",
              "ADALAR                  6155            238               0"
            ]
          },
          "execution_count": 34,
          "metadata": {},
          "output_type": "execute_result"
        }
      ],
      "source": [
        "bir_dort = data.groupby([\"ilce_adi\"])[[\"1-4 kat_arasi\",\"5-9 kat_arasi\", \"9-19 kat_arasi\"]].sum().sort_values(by=\"9-19 kat_arasi\", ascending=False)\n",
        "bir_dort"
      ]
    },
    {
      "cell_type": "code",
      "execution_count": null,
      "metadata": {
        "id": "JJ4-xMLI2uFl"
      },
      "outputs": [],
      "source": []
    },
    {
      "cell_type": "code",
      "execution_count": null,
      "metadata": {
        "id": "Z_MG_aM62uC7"
      },
      "outputs": [],
      "source": []
    },
    {
      "cell_type": "code",
      "execution_count": null,
      "metadata": {
        "id": "N-5IvH1V2uAL"
      },
      "outputs": [],
      "source": []
    },
    {
      "cell_type": "code",
      "execution_count": null,
      "metadata": {
        "id": "JKDRMUUY2t9m"
      },
      "outputs": [],
      "source": []
    },
    {
      "cell_type": "code",
      "execution_count": null,
      "metadata": {
        "id": "uECL9QHz2t6V"
      },
      "outputs": [],
      "source": []
    },
    {
      "cell_type": "code",
      "execution_count": null,
      "metadata": {
        "id": "Ai9UimRo2tnM"
      },
      "outputs": [],
      "source": []
    },
    {
      "cell_type": "code",
      "execution_count": null,
      "metadata": {
        "id": "C2bXvGnQ2tjz"
      },
      "outputs": [],
      "source": []
    },
    {
      "cell_type": "code",
      "execution_count": null,
      "metadata": {
        "id": "G5Mc0xdi2tgY"
      },
      "outputs": [],
      "source": []
    },
    {
      "cell_type": "code",
      "execution_count": null,
      "metadata": {
        "id": "XtYZuvtX2tdP"
      },
      "outputs": [],
      "source": []
    },
    {
      "cell_type": "code",
      "execution_count": null,
      "metadata": {
        "id": "CQzvmKIS2tW_"
      },
      "outputs": [],
      "source": []
    },
    {
      "cell_type": "code",
      "execution_count": null,
      "metadata": {
        "id": "_VPJAEZn2tME"
      },
      "outputs": [],
      "source": []
    },
    {
      "cell_type": "code",
      "execution_count": null,
      "metadata": {
        "colab": {
          "base_uri": "https://localhost:8080/"
        },
        "id": "glXiuo3dmRIv",
        "outputId": "381a6d08-cbb6-4752-91d6-dc170d713809"
      },
      "outputs": [
        {
          "data": {
            "text/plain": [
              "['ŞİLE',\n",
              " 'FATİH',\n",
              " 'BEYKOZ',\n",
              " 'BEYOĞLU',\n",
              " 'ESENYURT',\n",
              " 'ÇATALCA',\n",
              " 'SARIYER',\n",
              " 'ARNAVUTKÖY',\n",
              " 'PENDİK',\n",
              " 'SİLİVRİ',\n",
              " 'ÜMRANİYE',\n",
              " 'ÜSKÜDAR',\n",
              " 'EYÜP',\n",
              " 'ŞİŞLİ',\n",
              " 'BÜYÜKÇEKMECE',\n",
              " 'BEŞİKTAŞ',\n",
              " 'BAĞCILAR',\n",
              " 'KÜÇÜKÇEKMECE',\n",
              " 'KADIKÖY',\n",
              " 'ÇEKMEKÖY',\n",
              " 'KARTAL',\n",
              " 'KAĞITHANE',\n",
              " 'SANCAKTEPE',\n",
              " 'MALTEPE',\n",
              " 'TUZLA',\n",
              " 'ATAŞEHİR',\n",
              " 'ESENLER',\n",
              " 'GAZİOSMANPAŞA',\n",
              " 'SULTANGAZİ',\n",
              " 'SULTANBEYLİ',\n",
              " 'BAKIRKÖY',\n",
              " 'ZEYTİNBURNU',\n",
              " 'GÜNGÖREN',\n",
              " 'BAYRAMPAŞA',\n",
              " 'BAHÇELİEVLER',\n",
              " 'BEYLİKDÜZÜ',\n",
              " 'BAŞAKŞEHİR',\n",
              " 'AVCILAR',\n",
              " 'ADALAR']"
            ]
          },
          "execution_count": 16,
          "metadata": {},
          "output_type": "execute_result"
        }
      ],
      "source": [
        "ilceler = ilce.index.to_list()\n",
        "ilceler"
      ]
    },
    {
      "cell_type": "code",
      "execution_count": null,
      "metadata": {
        "id": "m7mtqUyltLyB"
      },
      "outputs": [],
      "source": [
        "tüm_ilce = []\n",
        "\n",
        "for i in data[\"ilce_adi\"]:\n",
        "  tüm_ilce.append(i)"
      ]
    },
    {
      "cell_type": "code",
      "execution_count": null,
      "metadata": {
        "id": "34zw5uU-ttzc"
      },
      "outputs": [],
      "source": [
        "mahalle_sayi =[]\n",
        "\n",
        "for i in ilceler:\n",
        "  mahalle_sayi.append(tüm_ilce.count(i))"
      ]
    },
    {
      "cell_type": "code",
      "execution_count": null,
      "metadata": {
        "id": "R5YeNy6ouRI6"
      },
      "outputs": [],
      "source": [
        "data1 = [[ilceler,mahalle_sayi]]"
      ]
    }
  ],
  "metadata": {
    "colab": {
      "provenance": []
    },
    "kernelspec": {
      "display_name": "Python 3",
      "name": "python3"
    },
    "language_info": {
      "codemirror_mode": {
        "name": "ipython",
        "version": 3
      },
      "file_extension": ".py",
      "mimetype": "text/x-python",
      "name": "python",
      "nbconvert_exporter": "python",
      "pygments_lexer": "ipython3",
      "version": "3.10.9"
    }
  },
  "nbformat": 4,
  "nbformat_minor": 0
}
